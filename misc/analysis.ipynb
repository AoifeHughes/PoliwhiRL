{
 "cells": [
  {
   "cell_type": "code",
   "execution_count": null,
   "metadata": {},
   "outputs": [],
   "source": [
    "import matplotlib.pyplot as plt\n",
    "import seaborn as sns\n",
    "import numpy as np \n",
    "import pandas as pd \n",
    "import json\n",
    "sns.set_theme(style=\"whitegrid\")\n",
    "plt.style.use('ggplot')\n",
    "\n"
   ]
  },
  {
   "cell_type": "code",
   "execution_count": 7,
   "metadata": {},
   "outputs": [
    {
     "ename": "TypeError",
     "evalue": "unsupported operand type(s) for +=: 'int' and 'str'",
     "output_type": "error",
     "traceback": [
      "\u001b[0;31m---------------------------------------------------------------------------\u001b[0m",
      "\u001b[0;31mTypeError\u001b[0m                                 Traceback (most recent call last)",
      "Cell \u001b[0;32mIn[7], line 43\u001b[0m\n\u001b[1;32m     41\u001b[0m     \u001b[38;5;28;01mif\u001b[39;00m \u001b[38;5;124m\"\u001b[39m\u001b[38;5;124mrewards_per_location\u001b[39m\u001b[38;5;124m\"\u001b[39m \u001b[38;5;129;01min\u001b[39;00m entry:\n\u001b[1;32m     42\u001b[0m         \u001b[38;5;28;01mfor\u001b[39;00m i, reward \u001b[38;5;129;01min\u001b[39;00m \u001b[38;5;28menumerate\u001b[39m(entry[\u001b[38;5;124m\"\u001b[39m\u001b[38;5;124mrewards_per_location\u001b[39m\u001b[38;5;124m\"\u001b[39m]):\n\u001b[0;32m---> 43\u001b[0m             rewards_per_location[i] \u001b[38;5;241m+\u001b[39m\u001b[38;5;241m=\u001b[39m reward\n\u001b[1;32m     45\u001b[0m \u001b[38;5;66;03m# Add the counts for this run to the list of all runs\u001b[39;00m\n\u001b[1;32m     46\u001b[0m all_runs_counts\u001b[38;5;241m.\u001b[39mappend(run_counts)\n",
      "\u001b[0;31mTypeError\u001b[0m: unsupported operand type(s) for +=: 'int' and 'str'"
     ]
    }
   ],
   "source": [
    "import os\n",
    "import json\n",
    "import matplotlib.pyplot as plt\n",
    "\n",
    "# Base directory where the \"run_X\" folders are located\n",
    "base_dir = \"../\"\n",
    "\n",
    "# Function to count the number of true values in \"has_reached_reward_locations_xy\"\n",
    "def count_trues_in_entry(entry):\n",
    "    count = 0\n",
    "    for key, value in entry.items():\n",
    "        for subkey, subvalue in value.items():\n",
    "            if subvalue:\n",
    "                count += 1\n",
    "    return count\n",
    "\n",
    "# Initialize a list to hold the counts for all runs\n",
    "all_runs_counts = []\n",
    "rewards_per_location = {i: 0.0 for i in range(0, 255)}\n",
    "\n",
    "# Loop over each folder in the base directory\n",
    "for folder_name in sorted([f for f in os.listdir(base_dir) if f.startswith(\"run_\")], key=lambda x: int(x.split('_')[1])):\n",
    "\n",
    "    folder_path = os.path.join(base_dir, folder_name, 'logs')\n",
    "    file_path = os.path.join(folder_path, 'rainbow_env.json')\n",
    "    \n",
    "    # Check if the expected file exists\n",
    "    if os.path.exists(file_path):\n",
    "        with open(file_path, 'r') as file:\n",
    "            data = json.load(file)\n",
    "            \n",
    "            # Initialize a list to hold the true counts for this run\n",
    "            run_counts = []\n",
    "            \n",
    "            # Loop over each entry in the JSON file\n",
    "            for entry in data.values():\n",
    "                if \"has_reached_reward_locations_xy\" in entry:\n",
    "                    true_count = count_trues_in_entry(entry[\"has_reached_reward_locations_xy\"])\n",
    "                    run_counts.append(true_count)\n",
    "            \n",
    "                if \"rewards_per_location\" in entry:\n",
    "                    for i, reward in enumerate(entry[\"rewards_per_location\"]):\n",
    "                        rewards_per_location[i] += float(reward)\n",
    "\n",
    "            # Add the counts for this run to the list of all runs\n",
    "            all_runs_counts.append(run_counts)\n",
    "\n",
    "# Plotting\n",
    "fig, ax = plt.subplots(1, figsize=(25,5), dpi=100)\n",
    "for i, run_counts in enumerate(all_runs_counts):\n",
    "    # Assuming X is the index of each count, and Y is the count value\n",
    "    ax.plot(range(1, len(run_counts) + 1), run_counts, marker='o', label=f'Run {i+1}')\n",
    "\n",
    "ax.set_xlabel('Entry Number')\n",
    "ax.set_ylabel('Number of True Values')\n",
    "ax.set_title('True Counts in has_reached_reward_locations_xy Across Runs')\n",
    "ax.legend()\n",
    "\n",
    "plt.show()\n"
   ]
  }
 ],
 "metadata": {
  "kernelspec": {
   "display_name": "playground",
   "language": "python",
   "name": "python3"
  },
  "language_info": {
   "codemirror_mode": {
    "name": "ipython",
    "version": 3
   },
   "file_extension": ".py",
   "mimetype": "text/x-python",
   "name": "python",
   "nbconvert_exporter": "python",
   "pygments_lexer": "ipython3",
   "version": "3.10.11"
  }
 },
 "nbformat": 4,
 "nbformat_minor": 2
}
